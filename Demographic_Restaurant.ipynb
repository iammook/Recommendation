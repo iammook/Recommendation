{
  "nbformat": 4,
  "nbformat_minor": 0,
  "metadata": {
    "colab": {
      "provenance": [],
      "mount_file_id": "1Pr0C7lcPqcIAJCC2IRf_lH2n_pkrKYpN",
      "authorship_tag": "ABX9TyMkuGWGoMHtwAGRpWZreyxb",
      "include_colab_link": true
    },
    "kernelspec": {
      "name": "python3",
      "display_name": "Python 3"
    },
    "language_info": {
      "name": "python"
    }
  },
  "cells": [
    {
      "cell_type": "markdown",
      "metadata": {
        "id": "view-in-github",
        "colab_type": "text"
      },
      "source": [
        "<a href=\"https://colab.research.google.com/github/iammook/Recommendation/blob/main/Demographic_Restaurant.ipynb\" target=\"_parent\"><img src=\"https://colab.research.google.com/assets/colab-badge.svg\" alt=\"Open In Colab\"/></a>"
      ]
    },
    {
      "cell_type": "code",
      "metadata": {
        "id": "jYvmaqO5bR6e"
      },
      "source": [
        "import pandas as pd\n",
        "from sklearn.tree import DecisionTreeClassifier\n",
        "from sklearn.model_selection import train_test_split\n",
        "from sklearn import tree\n",
        "from sklearn.neighbors import KNeighborsClassifier"
      ],
      "execution_count": null,
      "outputs": []
    },
    {
      "cell_type": "code",
      "metadata": {
        "colab": {
          "base_uri": "https://localhost:8080/"
        },
        "id": "HEN0efHrmOUj",
        "outputId": "709ff005-1c59-442f-97a0-644dc8a54de4"
      },
      "source": [
        "from google.colab import drive\n",
        "drive.mount('/content/drive')"
      ],
      "execution_count": null,
      "outputs": [
        {
          "output_type": "stream",
          "name": "stdout",
          "text": [
            "Drive already mounted at /content/drive; to attempt to forcibly remount, call drive.mount(\"/content/drive\", force_remount=True).\n"
          ]
        }
      ]
    },
    {
      "cell_type": "code",
      "metadata": {
        "id": "gDxAulTekKUK"
      },
      "source": [
        "path_res = \"/content/drive/MyDrive/Colab Notebooks/Data/restaurant.csv\"\n",
        "df_restaurant = pd.read_csv(path_res)\n",
        "# array_restaurant = df_restaurant.values\n",
        "path_con = \"/content/drive/MyDrive/Colab Notebooks/Data/cuisine.csv\"\n",
        "df_cuisine = pd.read_csv(path_con)\n",
        "# array_cuisine = df_cuisine.values\n",
        "path_test = \"/content/drive/MyDrive/Colab Notebooks/Data/Test (1).csv\"\n",
        "df_test = pd.read_csv(path_test)\n",
        "# array_cuisine = df_test.values\n",
        "data_path = \"/content/drive/MyDrive/Colab Notebooks/Data/Test_dataform3.csv\"\n",
        "data = pd.read_csv(data_path)"
      ],
      "execution_count": null,
      "outputs": []
    },
    {
      "cell_type": "markdown",
      "metadata": {
        "id": "OngfvKLonqvN"
      },
      "source": [
        "ดูจำนวนแถวและคอลัมน์\n"
      ]
    },
    {
      "cell_type": "code",
      "metadata": {
        "colab": {
          "base_uri": "https://localhost:8080/"
        },
        "id": "B5sk43Xsl_CZ",
        "outputId": "b551a6ad-d22f-4c6b-c770-63a09fa8e72d"
      },
      "source": [
        "print(df_restaurant.shape)"
      ],
      "execution_count": null,
      "outputs": [
        {
          "output_type": "stream",
          "name": "stdout",
          "text": [
            "(1027, 15)\n"
          ]
        }
      ]
    },
    {
      "cell_type": "code",
      "metadata": {
        "colab": {
          "base_uri": "https://localhost:8080/",
          "height": 196
        },
        "id": "sS12mrDZocOW",
        "outputId": "6e33e748-fea8-4259-c6c0-5ee3d0477727"
      },
      "source": [
        "df_restaurant.head(3)"
      ],
      "execution_count": null,
      "outputs": [
        {
          "output_type": "execute_result",
          "data": {
            "text/html": [
              "<div>\n",
              "<style scoped>\n",
              "    .dataframe tbody tr th:only-of-type {\n",
              "        vertical-align: middle;\n",
              "    }\n",
              "\n",
              "    .dataframe tbody tr th {\n",
              "        vertical-align: top;\n",
              "    }\n",
              "\n",
              "    .dataframe thead th {\n",
              "        text-align: right;\n",
              "    }\n",
              "</style>\n",
              "<table border=\"1\" class=\"dataframe\">\n",
              "  <thead>\n",
              "    <tr style=\"text-align: right;\">\n",
              "      <th></th>\n",
              "      <th>id</th>\n",
              "      <th>name</th>\n",
              "      <th>latitude</th>\n",
              "      <th>longitude</th>\n",
              "      <th>address</th>\n",
              "      <th>area</th>\n",
              "      <th>city</th>\n",
              "      <th>cost</th>\n",
              "      <th>rating</th>\n",
              "      <th>homedelivery</th>\n",
              "      <th>smoking</th>\n",
              "      <th>alcohol</th>\n",
              "      <th>wifi</th>\n",
              "      <th>valetparking</th>\n",
              "      <th>rooftop</th>\n",
              "    </tr>\n",
              "  </thead>\n",
              "  <tbody>\n",
              "    <tr>\n",
              "      <th>0</th>\n",
              "      <td>0</td>\n",
              "      <td>Razzberry Rhinoceros</td>\n",
              "      <td>19.102989</td>\n",
              "      <td>72.825519</td>\n",
              "      <td>JuhuHotel, 39/2, Juhu Tara, Juhu, Mumbai</td>\n",
              "      <td>Juhu</td>\n",
              "      <td>Mumbai</td>\n",
              "      <td>2500</td>\n",
              "      <td>3.5</td>\n",
              "      <td>no</td>\n",
              "      <td>yes</td>\n",
              "      <td>yes</td>\n",
              "      <td>yes</td>\n",
              "      <td>yes</td>\n",
              "      <td>no</td>\n",
              "    </tr>\n",
              "    <tr>\n",
              "      <th>1</th>\n",
              "      <td>1</td>\n",
              "      <td>JLWA</td>\n",
              "      <td>19.060339</td>\n",
              "      <td>72.836166</td>\n",
              "      <td>Linking Road, Bandra West3rd Floor, VN Sphere ...</td>\n",
              "      <td>Linking Road, Bandra West</td>\n",
              "      <td>Mumbai</td>\n",
              "      <td>1600</td>\n",
              "      <td>4.5</td>\n",
              "      <td>no</td>\n",
              "      <td>yes</td>\n",
              "      <td>yes</td>\n",
              "      <td>no</td>\n",
              "      <td>yes</td>\n",
              "      <td>no</td>\n",
              "    </tr>\n",
              "    <tr>\n",
              "      <th>2</th>\n",
              "      <td>2</td>\n",
              "      <td>Tamasha</td>\n",
              "      <td>19.005862</td>\n",
              "      <td>72.827454</td>\n",
              "      <td>Ground Floor, Victoria House, E.B Marg,Lower P...</td>\n",
              "      <td>Lower Parel</td>\n",
              "      <td>Mumbai</td>\n",
              "      <td>1800</td>\n",
              "      <td>4.1</td>\n",
              "      <td>no</td>\n",
              "      <td>yes</td>\n",
              "      <td>yes</td>\n",
              "      <td>no</td>\n",
              "      <td>yes</td>\n",
              "      <td>no</td>\n",
              "    </tr>\n",
              "  </tbody>\n",
              "</table>\n",
              "</div>"
            ],
            "text/plain": [
              "   id                  name   latitude  ...   wifi  valetparking  rooftop  \n",
              "0   0  Razzberry Rhinoceros  19.102989  ...    yes           yes         no\n",
              "1   1                  JLWA  19.060339  ...     no           yes         no\n",
              "2   2               Tamasha  19.005862  ...     no           yes         no\n",
              "\n",
              "[3 rows x 15 columns]"
            ]
          },
          "metadata": {},
          "execution_count": 6
        }
      ]
    },
    {
      "cell_type": "code",
      "metadata": {
        "colab": {
          "base_uri": "https://localhost:8080/"
        },
        "id": "6wz9bwc4otWf",
        "outputId": "b934a0d7-9726-41dc-c87c-945014c95f50"
      },
      "source": [
        "df_restaurant.info"
      ],
      "execution_count": null,
      "outputs": [
        {
          "output_type": "execute_result",
          "data": {
            "text/plain": [
              "<bound method DataFrame.info of         id                        name  ...   valetparking   rooftop  \n",
              "0        0        Razzberry Rhinoceros  ...            yes          no\n",
              "1        1                        JLWA  ...            yes          no\n",
              "2        2                     Tamasha  ...            yes          no\n",
              "3        3                Joey's Pizza  ...             no          no\n",
              "4        4                     HITCHKI  ...            yes          no\n",
              "...    ...                         ...  ...            ...         ...\n",
              "1022  1028   Sequel Bistro & Juice Bar  ...             no          no\n",
              "1023  1030                   Alfredo's  ...            yes          no\n",
              "1024  1031  Little Hut Chinese Cuisine  ...             no          no\n",
              "1025  1033        The Corner Club Cafe  ...             no          no\n",
              "1026  1034                     The Den  ...            yes          no\n",
              "\n",
              "[1027 rows x 15 columns]>"
            ]
          },
          "metadata": {},
          "execution_count": 7
        }
      ]
    },
    {
      "cell_type": "code",
      "metadata": {
        "colab": {
          "base_uri": "https://localhost:8080/"
        },
        "id": "oFkg6Omnoo_A",
        "outputId": "5d3efe26-5690-4016-aae3-b4020ce48c90"
      },
      "source": [
        "print(df_cuisine.shape)"
      ],
      "execution_count": null,
      "outputs": [
        {
          "output_type": "stream",
          "name": "stdout",
          "text": [
            "(3635, 3)\n"
          ]
        }
      ]
    },
    {
      "cell_type": "code",
      "metadata": {
        "colab": {
          "base_uri": "https://localhost:8080/",
          "height": 143
        },
        "id": "kYGhywNMnz5V",
        "outputId": "6b8ffcfc-3196-4071-82b2-532640c42969"
      },
      "source": [
        "df_cuisine.head(3)"
      ],
      "execution_count": null,
      "outputs": [
        {
          "output_type": "execute_result",
          "data": {
            "text/html": [
              "<div>\n",
              "<style scoped>\n",
              "    .dataframe tbody tr th:only-of-type {\n",
              "        vertical-align: middle;\n",
              "    }\n",
              "\n",
              "    .dataframe tbody tr th {\n",
              "        vertical-align: top;\n",
              "    }\n",
              "\n",
              "    .dataframe thead th {\n",
              "        text-align: right;\n",
              "    }\n",
              "</style>\n",
              "<table border=\"1\" class=\"dataframe\">\n",
              "  <thead>\n",
              "    <tr style=\"text-align: right;\">\n",
              "      <th></th>\n",
              "      <th>id</th>\n",
              "      <th>rid</th>\n",
              "      <th>cuisine</th>\n",
              "    </tr>\n",
              "  </thead>\n",
              "  <tbody>\n",
              "    <tr>\n",
              "      <th>0</th>\n",
              "      <td>0</td>\n",
              "      <td>0</td>\n",
              "      <td>Mediterranean</td>\n",
              "    </tr>\n",
              "    <tr>\n",
              "      <th>1</th>\n",
              "      <td>1</td>\n",
              "      <td>0</td>\n",
              "      <td>Italian</td>\n",
              "    </tr>\n",
              "    <tr>\n",
              "      <th>2</th>\n",
              "      <td>2</td>\n",
              "      <td>0</td>\n",
              "      <td>North Indian</td>\n",
              "    </tr>\n",
              "  </tbody>\n",
              "</table>\n",
              "</div>"
            ],
            "text/plain": [
              "   id  rid        cuisine\n",
              "0   0    0  Mediterranean\n",
              "1   1    0        Italian\n",
              "2   2    0   North Indian"
            ]
          },
          "metadata": {},
          "execution_count": 9
        }
      ]
    },
    {
      "cell_type": "code",
      "metadata": {
        "colab": {
          "base_uri": "https://localhost:8080/"
        },
        "id": "SL3BZnZKo6pG",
        "outputId": "7f3b3430-389a-43df-847d-e7c9edced8b8"
      },
      "source": [
        "df_cuisine.info"
      ],
      "execution_count": null,
      "outputs": [
        {
          "output_type": "execute_result",
          "data": {
            "text/plain": [
              "<bound method DataFrame.info of         id   rid        cuisine\n",
              "0        0     0  Mediterranean\n",
              "1        1     0        Italian\n",
              "2        2     0   North Indian\n",
              "3        3     0    Continental\n",
              "4        4     1  Modern Indian\n",
              "...    ...   ...            ...\n",
              "3630  3630  1033   North Indian\n",
              "3631  3631  1033    Continental\n",
              "3632  3632  1034       European\n",
              "3633  3633  1034       American\n",
              "3634  3634  1034   North Indian\n",
              "\n",
              "[3635 rows x 3 columns]>"
            ]
          },
          "metadata": {},
          "execution_count": 10
        }
      ]
    },
    {
      "cell_type": "code",
      "metadata": {
        "id": "d1glVBTUpakD"
      },
      "source": [
        "filter_cuisine_id = array_cuisine[array_cuisine[:,2] == 'Italian'] \n",
        "print(filter_cuisine_id[:15])\n"
      ],
      "execution_count": null,
      "outputs": []
    },
    {
      "cell_type": "code",
      "metadata": {
        "id": "0OKH_Cy2thju"
      },
      "source": [
        "filter_cuisine_id = filter_cuisine_id[:,1]\n",
        "print(filter_cuisine_id[:15])"
      ],
      "execution_count": null,
      "outputs": []
    },
    {
      "cell_type": "code",
      "metadata": {
        "id": "dbMCQEd21A_g"
      },
      "source": [
        "df_test.info()"
      ],
      "execution_count": null,
      "outputs": []
    },
    {
      "cell_type": "code",
      "metadata": {
        "id": "0YrElIOQq785"
      },
      "source": [
        "df_test.head(10)"
      ],
      "execution_count": null,
      "outputs": []
    },
    {
      "cell_type": "code",
      "metadata": {
        "id": "HsoFJSZayblE"
      },
      "source": [
        "df_test['homedelivery'] = df_test.homedelivery.replace(['no','yes'],[1,2])\n",
        "df_test['smoking'] = df_test.smoking.replace(['no','yes'],[1,2])\n",
        "df_test['alcohol'] = df_test.alcohol.replace(['no','yes'],[1,2])\n",
        "df_test['wifi'] = df_test.wifi.replace(['no','yes'],[1,2])\n",
        "df_test['valetparking'] = df_test.valetparking.replace(['no','yes'],[1,2])\n",
        "# df_test['rooftop'] = df_test.rooftop.replace(['no','yes'],[1,2])\n",
        "df_test['cuisine'] = df_test.cuisine.replace(['Mediterranean','Italian','North Indian','Continental','Modern Indian','European','Pizza','Grill','Finger Food','Mexican','Japanese','Asian'\n",
        ",'Healthy Food','Indian','Cafe','Fast Food','Chinese','American','Mughlai','South Indian','Spanish','Lebanese','Burger','Desserts','Seafood','Salad'\n",
        ",'Arabian','Modern Australian','Turkish','Greek','Cantonese','Dim Sum','Tea','Yum Cha','Fusion','Sushi','Beverages','Pan Asian','Thai','Goan','North Eastern','Parsi','Iranian','Juices','Sandwich','Street Food'\n",
        ",'Biryani','Persian','Coffee and Tea','Bakery','Rolls','Ice Cream','Bar Food','Contemporary','British','Kebab','BBQ','Burmese'],[1,2,3,4,5,6,7,8,9,10,11,12,13,14,15,16,17,18,19,20,21,22,23,24,25,26,27,28,29,30,31,32,33,34,35,36,37,38,39,40,41,42,43,44,45,46,47,48,49,50,51,52,53,54,55,56,57,58])"
      ],
      "execution_count": null,
      "outputs": []
    },
    {
      "cell_type": "code",
      "metadata": {
        "id": "5sqpmNfj4WK7"
      },
      "source": [
        "df_test['cuisine'] = df_test.cuisine.replace(['Mediterranean','Italian','North Indian','Continental','Modern Indian','European','Pizza','Grill','Finger Food','Mexican','Japanese','Asian'\n",
        ",'Healthy Food','Indian','Cafe','Fast Food','Chinese','American','Mughlai','South Indian','Spanish','Lebanese','Burger','Desserts','Seafood','Salad'\n",
        ",'Arabian','Modern Australian','Turkish','Greek','Cantonese','Dim Sum','Tea','Yum Cha','Fusion','Sushi','Beverages','Pan Asian','Thai','Goan','North Eastern','Parsi','Iranian','Juices','Sandwich','Street Food'\n",
        ",'Biryani','Persian','Coffee and Tea','Bakery','Rolls','Ice Cream','Bar Food','Contemporary','British','Kebab','BBQ','Burmese'],[1,2,3,4,5,6,7,8,9,10,11,12,13,14,15,16,17,18,19,20,21,22,23,24,25,26,27,28,29,30,31,32,33,34,35,36,37,38,39,40,41,42,43,44,45,46,47,48,49,50,51,52,53,54,55,56,57,58])"
      ],
      "execution_count": null,
      "outputs": []
    },
    {
      "cell_type": "code",
      "metadata": {
        "id": "JXEuXcL1w0fx"
      },
      "source": [
        "print(df_test.homedelivery.unique())\n",
        "print(df_test.smoking.unique())\n",
        "print(df_test.alcohol.unique())\n",
        "print(df_test.wifi.unique())\n",
        "print(df_test.valetparking.unique())\n",
        "# print(df_test.rooftop.unique())\n",
        "print(df_test.cuisine.unique())"
      ],
      "execution_count": null,
      "outputs": []
    },
    {
      "cell_type": "code",
      "metadata": {
        "id": "XNwFth-v050T"
      },
      "source": [
        "print(len(df_test.cuisine.unique()))"
      ],
      "execution_count": null,
      "outputs": []
    },
    {
      "cell_type": "code",
      "metadata": {
        "id": "00R9nMb_1914"
      },
      "source": [
        "df_test.head(10)"
      ],
      "execution_count": null,
      "outputs": []
    },
    {
      "cell_type": "code",
      "metadata": {
        "id": "qDrcpOPP4LR1"
      },
      "source": [
        "x = df_test[['homedelivery','smoking','alcohol','wifi','valetparking']]\n",
        "y = df_test[['cuisine']]"
      ],
      "execution_count": null,
      "outputs": []
    },
    {
      "cell_type": "code",
      "metadata": {
        "id": "Kx5Y_kOz5PLK"
      },
      "source": [
        "train_x, test_x, train_y, test_y = train_test_split(x, y, train_size=0.7, random_state=10)\n",
        "print(train_x.count())"
      ],
      "execution_count": null,
      "outputs": []
    },
    {
      "cell_type": "code",
      "metadata": {
        "id": "BEMOi76H6P_B"
      },
      "source": [
        "print(train_y.count())"
      ],
      "execution_count": null,
      "outputs": []
    },
    {
      "cell_type": "code",
      "metadata": {
        "id": "t9yg4bfe6VUZ"
      },
      "source": [
        "print(test_x.count())"
      ],
      "execution_count": null,
      "outputs": []
    },
    {
      "cell_type": "code",
      "metadata": {
        "id": "-X4qWv5i6YUa"
      },
      "source": [
        "print(test_x.count())"
      ],
      "execution_count": null,
      "outputs": []
    },
    {
      "cell_type": "code",
      "metadata": {
        "id": "G5Oungkf6aGl"
      },
      "source": [
        "Treemodel = tree.DecisionTreeClassifier()\n",
        "KNNmodel = KNeighborsClassifier(n_neighbors=5)\n",
        "\n",
        "Treemodel = Treemodel.fit(train_x, train_y)\n",
        "KNNmodel = KNNmodel.fit(train_x, train_y)"
      ],
      "execution_count": null,
      "outputs": []
    },
    {
      "cell_type": "code",
      "metadata": {
        "id": "t54uazl17TNm"
      },
      "source": [
        "TreeScore = Treemodel.score(test_x, test_y)\n",
        "KNNScore = KNNmodel.score(test_x, test_y)\n",
        "print(TreeScore, KNNScore)"
      ],
      "execution_count": null,
      "outputs": []
    },
    {
      "cell_type": "code",
      "metadata": {
        "id": "mXSyHMxZIjzv"
      },
      "source": [
        "another = [[1,2,2,2,2]]\n",
        "print(Treemodel.predict(another))"
      ],
      "execution_count": null,
      "outputs": []
    }
  ]
}